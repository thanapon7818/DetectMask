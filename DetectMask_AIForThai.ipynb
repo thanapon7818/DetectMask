{
 "cells": [
  {
   "cell_type": "code",
   "execution_count": 1,
   "metadata": {
    "executionInfo": {
     "elapsed": 2467,
     "status": "ok",
     "timestamp": 1612638050885,
     "user": {
      "displayName": "Thanapon VISEDSANG",
      "photoUrl": "",
      "userId": "10220605586019377616"
     },
     "user_tz": -420
    },
    "id": "K1SZ1IatIyWR"
   },
   "outputs": [],
   "source": [
    "import tensorflow.keras\n",
    "from PIL import Image, ImageOps\n",
    "import numpy as np\n",
    "import cv2\n",
    "import requests\n",
    "import time"
   ]
  },
  {
   "cell_type": "code",
   "execution_count": 2,
   "metadata": {
    "executionInfo": {
     "elapsed": 881,
     "status": "ok",
     "timestamp": 1612638055712,
     "user": {
      "displayName": "Thanapon VISEDSANG",
      "photoUrl": "",
      "userId": "10220605586019377616"
     },
     "user_tz": -420
    },
    "id": "eM3IuUa8IyWf"
   },
   "outputs": [],
   "source": [
    "def notifyFile(filename):\n",
    "    file = {'imageFile':open(filename,'rb')}\n",
    "    payload = {'message': 'ตรวจพบผู้ไม่สวมหน้ากากอนามัย สถานที่ : ☞ จุดตรวจหน้าอาคาร SC-11 '}\n",
    "    url = 'https://notify-api.line.me/api/notify'\n",
    "    token = 'A0IcZtUNMYaWoCPJyc1foPqxxPZik78JNpPAfX8Traa' #EDIT\n",
    "    headers = {'Authorization':'Bearer ' + token}\n",
    "    return requests.post(url, headers=headers , data = payload, files=file)"
   ]
  },
  {
   "cell_type": "code",
   "execution_count": 3,
   "metadata": {
    "colab": {
     "base_uri": "https://localhost:8080/",
     "height": 370
    },
    "executionInfo": {
     "elapsed": 901,
     "status": "error",
     "timestamp": 1612638069064,
     "user": {
      "displayName": "Thanapon VISEDSANG",
      "photoUrl": "",
      "userId": "10220605586019377616"
     },
     "user_tz": -420
    },
    "id": "1GITlspdIyWi",
    "outputId": "347eb899-1d16-4a17-d665-3e9b474581f6"
   },
   "outputs": [
    {
     "name": "stdout",
     "output_type": "stream",
     "text": [
      "WARNING:tensorflow:No training configuration found in the save file, so the model was *not* compiled. Compile it manually.\n"
     ]
    }
   ],
   "source": [
    "size = (224, 224)\n",
    "data = np.ndarray(shape=(1, 224, 224, 3), dtype=np.float32)\n",
    "np.set_printoptions(suppress=True)\n",
    "model = tensorflow.keras.models.load_model('keras_model.h5')\n",
    "window_name = 'Detect Mask'\n",
    "font = cv2.FONT_HERSHEY_SIMPLEX \n",
    "org = (50, 50) \n",
    "fontScale = 1\n",
    "text_color = (255, 0, 0) \n",
    "thickness = 2\n",
    "cooldown = 20\n",
    "last_send = time.time() "
   ]
  },
  {
   "cell_type": "code",
   "execution_count": 4,
   "metadata": {
    "id": "QKU8CzmLIyWk",
    "scrolled": true
   },
   "outputs": [
    {
     "name": "stdout",
     "output_type": "stream",
     "text": [
      "0 {'object': 'person', 'x0': 100, 'y0': 118, 'x1': 487, 'y1': 417}\n",
      "1\n",
      "1 {'object': 'person', 'x0': 98, 'y0': 297, 'x1': 317, 'y1': 414}\n",
      "0\n",
      "0 {'object': 'person', 'x0': 92, 'y0': 138, 'x1': 490, 'y1': 424}\n",
      "1\n",
      "0 {'object': 'person', 'x0': 148, 'y0': 126, 'x1': 528, 'y1': 418}\n",
      "1\n",
      "0 {'object': 'person', 'x0': 141, 'y0': 110, 'x1': 525, 'y1': 418}\n",
      "1\n",
      "0 {'object': 'person', 'x0': 173, 'y0': 129, 'x1': 521, 'y1': 423}\n",
      "0\n",
      "0 {'object': 'person', 'x0': 164, 'y0': 113, 'x1': 511, 'y1': 419}\n",
      "0\n",
      "1 {'object': 'person', 'x0': 94, 'y0': 317, 'x1': 195, 'y1': 410}\n",
      "0\n",
      "0 {'object': 'person', 'x0': 156, 'y0': 131, 'x1': 524, 'y1': 416}\n",
      "0\n",
      "1 {'object': 'person', 'x0': 91, 'y0': 310, 'x1': 193, 'y1': 411}\n",
      "0\n",
      "0 {'object': 'person', 'x0': 156, 'y0': 123, 'x1': 518, 'y1': 421}\n",
      "0\n",
      "0 {'object': 'person', 'x0': 157, 'y0': 128, 'x1': 522, 'y1': 420}\n",
      "0\n"
     ]
    }
   ],
   "source": [
    "cap = cv2.VideoCapture(0)\n",
    "frame_count = 0\n",
    "while(True):\n",
    "    ret, frame = cap.read()\n",
    "    cv2.imwrite('./image_frame/'+'frame_{}.jpg'.format(frame_count), frame) \n",
    "    files = {'src_img':open('./image_frame/'+'frame_{}.jpg'.format(frame_count), 'rb')}\n",
    "    url = \"https://api.aiforthai.in.th/person/human_detect/\"\n",
    "    data = {'json_export':'true','img_export':'true'}\n",
    "    headers = {\n",
    "        'Apikey': \"E6PjCdHVmnlyoMJx4xCWQpa2DpT4N3BV\" #EDIT\n",
    "    }\n",
    "    response = requests.post(url, files=files, headers=headers, data=data)\n",
    "    json = response.json()\n",
    "    aiforthai = frame.copy()\n",
    "    persons = json['json_data']\n",
    "    person_count = 0\n",
    "    for p in persons:\n",
    "        print(person_count, p)\n",
    "        if p['object'] == 'person':\n",
    "            crop_img = aiforthai[p['y0']:p['y1'], p['x0']:p['x1']]\n",
    "            cv2.imwrite('person_{}.jpg'.format(person_count), crop_img)\n",
    "            color = cv2.cvtColor(crop_img, cv2.COLOR_BGR2RGB)\n",
    "            resized = cv2.resize(color, size, interpolation = cv2.INTER_AREA)\n",
    "            normalized_image_array = (resized.astype(np.float32) / 127.0) - 1\n",
    "            data = np.ndarray(shape=(1, 224, 224, 3), dtype=np.float32)\n",
    "            data[0] = normalized_image_array\n",
    "            prediction = model.predict(data)\n",
    "            classes = np.argmax(prediction, axis=-1)[0]\n",
    "            print(classes)\n",
    "            frame = cv2.rectangle(frame, (p['x0'],p['y0']) , (p['x1'],p['y1']), text_color, thickness) \n",
    "            if classes== 0:\n",
    "                frame = cv2.putText(frame, 'Mask', (p['x0'],p['y0']), font,  \n",
    "                                    fontScale, text_color, thickness)\n",
    "            elif classes== 1:\n",
    "                frame = cv2.putText(frame, 'No Mask', (p['x0'],p['y0']), font, fontScale, text_color, thickness)\n",
    "                img_name = './image_alert/'+'output_{}.jpg'.format(frame_count)\n",
    "                cv2.imwrite(img_name, frame)\n",
    "                if (time.time() - last_send > cooldown):\n",
    "                    last_send = time.time()\n",
    "                    notifyFile(img_name)\n",
    "                    \n",
    "            else: \n",
    "                frame = cv2.putText(frame, '????', (p['x0'],p['y0']), font,  \n",
    "                                        fontScale, text_color, thickness)\n",
    "        person_count = person_count + 1\n",
    "    frame_count = frame_count + 1\n",
    "    cv2.imshow('frame',frame)\n",
    "    if cv2.waitKey(1) & 0xFF == ord('q'):\n",
    "        break\n",
    "cap.release()\n",
    "cv2.destroyAllWindows()"
   ]
  },
  {
   "cell_type": "code",
   "execution_count": null,
   "metadata": {
    "id": "224U4PeRIyWm"
   },
   "outputs": [],
   "source": []
  }
 ],
 "metadata": {
  "colab": {
   "collapsed_sections": [],
   "name": "DetectMask_AIForThai.ipynb",
   "provenance": []
  },
  "kernelspec": {
   "display_name": "Python 3",
   "language": "python",
   "name": "python3"
  },
  "language_info": {
   "codemirror_mode": {
    "name": "ipython",
    "version": 3
   },
   "file_extension": ".py",
   "mimetype": "text/x-python",
   "name": "python",
   "nbconvert_exporter": "python",
   "pygments_lexer": "ipython3",
   "version": "3.8.5"
  }
 },
 "nbformat": 4,
 "nbformat_minor": 1
}
