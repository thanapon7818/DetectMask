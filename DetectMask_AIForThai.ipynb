{
 "cells": [
  {
   "cell_type": "code",
   "execution_count": null,
   "metadata": {
    "executionInfo": {
     "elapsed": 2368,
     "status": "ok",
     "timestamp": 1612634074847,
     "user": {
      "displayName": "Thanapon VISEDSANG",
      "photoUrl": "",
      "userId": "10220605586019377616"
     },
     "user_tz": -420
    },
    "id": "K1SZ1IatIyWR"
   },
   "outputs": [],
   "source": [
    "import tensorflow.keras\n",
    "from PIL import Image, ImageOps\n",
    "import numpy as np\n",
    "import cv2\n",
    "import requests\n",
    "import time"
   ]
  },
  {
   "cell_type": "code",
   "execution_count": null,
   "metadata": {
    "executionInfo": {
     "elapsed": 862,
     "status": "ok",
     "timestamp": 1612634077726,
     "user": {
      "displayName": "Thanapon VISEDSANG",
      "photoUrl": "",
      "userId": "10220605586019377616"
     },
     "user_tz": -420
    },
    "id": "eM3IuUa8IyWf"
   },
   "outputs": [],
   "source": [
    "def notifyFile(filename):\n",
    "    file = {'imageFile':open(filename,'rb')}\n",
    "    payload = {'message': 'ไม่สวมใส่หน้ากาก'}\n",
    "    url = 'https://notify-api.line.me/api/notify'\n",
    "    token = '1ErmEHi2aDBQiswdjRvbsRTr4E5NE9wVpVl5u7FwkD4' #EDIT\n",
    "    headers = {'Authorization':'Bearer ' + token}\n",
    "\n",
    "    return requests.post(url, headers=headers , data = payload, files=file)\n",
    "    #return _lineNotify(payload,file)"
   ]
  },
  {
   "cell_type": "code",
   "execution_count": null,
   "metadata": {
    "id": "jEOnmFI9IyWh"
   },
   "outputs": [],
   "source": [
    "#def _lineNotify(payload,file=None):\n",
    "    #import requests\n",
    "    #url = 'https://notify-api.line.me/api/notify'\n",
    "    #token = '1ErmEHi2aDBQiswdjRvbsRTr4E5NE9wVpVl5u7FwkD4' #EDIT\n",
    "    #headers = {'Authorization':'Bearer ' + token}\n",
    "    #return requests.post(url, headers=headers , data = payload, files=file)"
   ]
  },
  {
   "cell_type": "code",
   "execution_count": null,
   "metadata": {
    "id": "1GITlspdIyWi"
   },
   "outputs": [],
   "source": [
    "size = (224, 224)\n",
    "data = np.ndarray(shape=(1, 224, 224, 3), dtype=np.float32)\n",
    "\n",
    "# Disable scientific notation for clarity\n",
    "np.set_printoptions(suppress=True)\n",
    "\n",
    "# Load the model\n",
    "model = tensorflow.keras.models.load_model('keras_model.h5')\n",
    "# Window name in which image is displayed \n",
    "window_name = 'Detect Mask'\n",
    "\n",
    "# font \n",
    "font = cv2.FONT_HERSHEY_SIMPLEX \n",
    "  \n",
    "# org \n",
    "org = (50, 50) \n",
    "  \n",
    "# fontScale \n",
    "fontScale = 1\n",
    "   \n",
    "# Blue color in BGR \n",
    "text_color = (255, 0, 0) \n",
    "  \n",
    "# Line thickness of 2 px \n",
    "thickness = 2\n",
    "\n",
    "cooldown = 20\n",
    "last_send = time.time() "
   ]
  },
  {
   "cell_type": "code",
   "execution_count": null,
   "metadata": {
    "id": "AKP27qmFIyWj"
   },
   "outputs": [],
   "source": []
  },
  {
   "cell_type": "code",
   "execution_count": null,
   "metadata": {
    "id": "QKU8CzmLIyWk",
    "scrolled": true
   },
   "outputs": [],
   "source": [
    "cap = cv2.VideoCapture(0)\n",
    "frame_count = 0\n",
    "while(True):\n",
    "    # Capture frame-by-frame\n",
    "    ret, frame = cap.read()\n",
    "    #if cv2.waitKey(1) & 0xFF == ord('t'):\n",
    "    cv2.imwrite('./image_frame/'+'frame_{}.jpg'.format(frame_count), frame) \n",
    "    files = {'src_img':open('./image_frame/'+'frame_{}.jpg'.format(frame_count), 'rb')}\n",
    "    url = \"https://api.aiforthai.in.th/person/human_detect/\"\n",
    "    data = {'json_export':'true','img_export':'true'}\n",
    "    headers = {\n",
    "        'Apikey': \"E6PjCdHVmnlyoMJx4xCWQpa2DpT4N3BV\" #EDIT\n",
    "    }\n",
    "    response = requests.post(url, files=files, headers=headers, data=data)\n",
    "    print(response.json())\n",
    "    json = response.json()\n",
    "    aiforthai = frame.copy()\n",
    "    persons = json['json_data']\n",
    "    person_count = 0\n",
    "    for p in persons:\n",
    "        print(person_count, p)\n",
    "        if p['object'] == 'person':\n",
    "            crop_img = aiforthai[p['y0']:p['y1'], p['x0']:p['x1']]\n",
    "            cv2.imwrite('person_{}.jpg'.format(person_count), crop_img)\n",
    "            color = cv2.cvtColor(crop_img, cv2.COLOR_BGR2RGB)\n",
    "            resized = cv2.resize(color, size, interpolation = cv2.INTER_AREA)\n",
    "            normalized_image_array = (resized.astype(np.float32) / 127.0) - 1\n",
    "            data = np.ndarray(shape=(1, 224, 224, 3), dtype=np.float32)\n",
    "            data[0] = normalized_image_array\n",
    "            prediction = model.predict(data)\n",
    "            classes = np.argmax(prediction, axis=-1)[0]\n",
    "            print(classes)\n",
    "            frame = cv2.rectangle(frame, (p['x0'],p['y0']) , (p['x1'],p['y1']), text_color, thickness) \n",
    "            if classes== 0:\n",
    "                frame = cv2.putText(frame, 'Mask', (p['x0'],p['y0']), font,  \n",
    "                                    fontScale, text_color, thickness)\n",
    "                #cv2.imwrite('./image_alert/'+'output_{}.jpg'.format(frame_count), frame)\n",
    "            elif classes== 1:\n",
    "                frame = cv2.putText(frame, 'No Mask', (p['x0'],p['y0']), font, fontScale, text_color, thickness)\n",
    "                img_name = './image_alert/'+'output_{}.jpg'.format(frame_count)\n",
    "                cv2.imwrite(img_name, frame)\n",
    "                #print(\"{} written!\".format(img_name))\n",
    "                if (time.time() - last_send > cooldown):\n",
    "                    last_send = time.time()\n",
    "                    notifyFile(img_name)\n",
    "                    \n",
    "            else: \n",
    "                frame = cv2.putText(frame, '????', (p['x0'],p['y0']), font,  \n",
    "                                        fontScale, text_color, thickness)\n",
    "                # Display the resulting frame\n",
    "                \n",
    "                person_count = person_count + 1\n",
    "    frame_count = frame_count + 1\n",
    "        \n",
    "        \n",
    "    cv2.imshow('frame',frame)\n",
    "    if cv2.waitKey(1) & 0xFF == ord('q'):\n",
    "        break\n",
    "    \n",
    "# When everything done, release the capture\n",
    "cap.release()\n",
    "cv2.destroyAllWindows()"
   ]
  },
  {
   "cell_type": "code",
   "execution_count": null,
   "metadata": {
    "id": "224U4PeRIyWm"
   },
   "outputs": [],
   "source": []
  }
 ],
 "metadata": {
  "colab": {
   "collapsed_sections": [],
   "name": "DetectMask_AIForThai.ipynb",
   "provenance": []
  },
  "kernelspec": {
   "display_name": "Python 3",
   "language": "python",
   "name": "python3"
  },
  "language_info": {
   "codemirror_mode": {
    "name": "ipython",
    "version": 3
   },
   "file_extension": ".py",
   "mimetype": "text/x-python",
   "name": "python",
   "nbconvert_exporter": "python",
   "pygments_lexer": "ipython3",
   "version": "3.8.5"
  }
 },
 "nbformat": 4,
 "nbformat_minor": 1
}
